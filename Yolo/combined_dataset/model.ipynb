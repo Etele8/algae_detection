{
 "cells": [
  {
   "cell_type": "code",
   "execution_count": 11,
   "id": "ad37b1d5",
   "metadata": {},
   "outputs": [],
   "source": [
    "import os\n",
    "\n",
    "labels_dir = \"D:/intezet/Bogi/Yolo/combined_dataset/labels\"\n",
    "for subfolder in os.listdir(labels_dir):\n",
    "    subfolder_path = os.path.join(labels_dir, subfolder)\n",
    "    if os.path.isdir(subfolder_path):\n",
    "        for filename in os.listdir(subfolder_path):\n",
    "            if filename.endswith(\".png\") or filename.endswith(\".txt\"):\n",
    "                # Remove '_combined' from the filename (before extension)\n",
    "                new_name = filename.replace(\"_combined\", \"\")\n",
    "                # If you want to keep the .png extension, replace .txt with .png\n",
    "                new_name = os.path.splitext(new_name)[0] + \".txt\"\n",
    "                src = os.path.join(subfolder_path, filename)\n",
    "                dst = os.path.join(subfolder_path, new_name)\n",
    "                os.rename(src, dst)"
   ]
  },
  {
   "cell_type": "code",
   "execution_count": 2,
   "id": "26a47464",
   "metadata": {},
   "outputs": [
    {
     "name": "stdout",
     "output_type": "stream",
     "text": [
      "Successfully modified input channels to 6\n",
      "Model saved as yolov8s_6ch.pt\n"
     ]
    }
   ],
   "source": [
    "from ultralytics import YOLO\n",
    "import torch.nn as nn\n",
    "\n",
    "# Load the pre-trained model\n",
    "model = YOLO('yolov8s.pt')\n",
    "\n",
    "# Get the first layer (which is a Conv module in YOLOv8)\n",
    "first_layer = model.model.model[0]\n",
    "\n",
    "# Check if it's a Conv module and modify its Conv2d layer\n",
    "if hasattr(first_layer, 'conv'):\n",
    "    conv_layer = first_layer.conv\n",
    "    if isinstance(conv_layer, nn.Conv2d):\n",
    "        # Modify input channels to 6\n",
    "        conv_layer.in_channels = 6\n",
    "        # Adjust the weight shape\n",
    "        if conv_layer.weight.shape[1] != 6:\n",
    "            import torch\n",
    "            new_weight = torch.zeros(conv_layer.out_channels, 6, *conv_layer.weight.shape[2:])\n",
    "            torch.nn.init.xavier_uniform_(new_weight)\n",
    "            conv_layer.weight = nn.Parameter(new_weight)\n",
    "        print(\"Successfully modified input channels to 6\")\n",
    "    else:\n",
    "        raise ValueError(\"Conv layer inside Conv module is not a Conv2d layer\")\n",
    "else:\n",
    "    raise ValueError(\"First layer does not have a conv attribute\")\n",
    "\n",
    "# Save the modified model\n",
    "model.save('yolov8s_6ch.pt')\n",
    "print(\"Model saved as yolov8s_6ch.pt\")"
   ]
  },
  {
   "cell_type": "code",
   "execution_count": 23,
   "id": "2f6cead1",
   "metadata": {},
   "outputs": [
    {
     "name": "stdout",
     "output_type": "stream",
     "text": [
      "Custom dataset class imported successfully: <class 'custom_dataset.TwoChannelDataset'>\n"
     ]
    }
   ],
   "source": [
    "from custom_dataset import TwoChannelDataset\n",
    "print(\"Custom dataset class imported successfully:\", TwoChannelDataset)"
   ]
  },
  {
   "cell_type": "code",
   "execution_count": null,
   "id": "9c5dc070",
   "metadata": {},
   "outputs": [
    {
     "name": "stdout",
     "output_type": "stream",
     "text": [
      "Starting training script...\n",
      "Current working directory: d:\\intezet\\Bogi\\Yolo\\combined_dataset\n",
      "Custom dataset class: <class 'custom_dataset.TwoChannelDataset'>\n",
      "Custom trainer class: <class 'custom_trainer.CustomTrainer'>\n",
      "Model loaded successfully\n",
      "Ultralytics 8.3.152  Python-3.12.4 torch-2.7.1+cpu CPU (Intel Core(TM) 5 120U)\n",
      "\u001b[34m\u001b[1mengine\\trainer: \u001b[0magnostic_nms=False, amp=True, augment=False, auto_augment=randaugment, batch=16, bgr=0.0, box=7.5, cache=False, cfg=None, classes=None, close_mosaic=10, cls=0.5, conf=None, copy_paste=0.0, copy_paste_mode=flip, cos_lr=False, cutmix=0.0, data=D:/intezet/Bogi/Yolo/combined_dataset/data.yaml, degrees=0.0, deterministic=True, device=cpu, dfl=1.5, dnn=False, dropout=0.0, dynamic=False, embed=None, epochs=40, erasing=0.4, exist_ok=False, fliplr=0.5, flipud=0.0, format=torchscript, fraction=1.0, freeze=None, half=False, hsv_h=0.015, hsv_s=0.7, hsv_v=0.4, imgsz=640, int8=False, iou=0.7, keras=False, kobj=1.0, line_width=None, lr0=0.01, lrf=0.01, mask_ratio=4, max_det=300, mixup=0.0, mode=train, model=yolov8s_6ch.pt, momentum=0.937, mosaic=1.0, multi_scale=False, name=train3, nbs=64, nms=False, opset=None, optimize=False, optimizer=auto, overlap_mask=True, patience=5, perspective=0.0, plots=True, pose=12.0, pretrained=True, profile=False, project=None, rect=False, resume=False, retina_masks=False, save=True, save_conf=False, save_crop=False, save_dir=runs\\detect\\train3, save_frames=False, save_json=False, save_period=-1, save_txt=False, scale=0.5, seed=0, shear=0.0, show=False, show_boxes=True, show_conf=True, show_labels=True, simplify=True, single_cls=False, source=None, split=val, stream_buffer=False, task=detect, time=None, tracker=botsort.yaml, translate=0.1, val=True, verbose=True, vid_stride=1, visualize=False, warmup_bias_lr=0.1, warmup_epochs=3.0, warmup_momentum=0.8, weight_decay=0.0005, workers=8, workspace=None\n",
      "Using custom dataset loader...\n"
     ]
    },
    {
     "ename": "TypeError",
     "evalue": "BaseDataset.__init__() got an unexpected keyword argument 'data'",
     "output_type": "error",
     "traceback": [
      "\u001b[31m---------------------------------------------------------------------------\u001b[39m",
      "\u001b[31mTypeError\u001b[39m                                 Traceback (most recent call last)",
      "\u001b[36mCell\u001b[39m\u001b[36m \u001b[39m\u001b[32mIn[29]\u001b[39m\u001b[32m, line 18\u001b[39m\n\u001b[32m     12\u001b[39m \u001b[38;5;28mprint\u001b[39m(\u001b[33m\"\u001b[39m\u001b[33mModel loaded successfully\u001b[39m\u001b[33m\"\u001b[39m)\n\u001b[32m     14\u001b[39m \u001b[38;5;66;03m# Clear cache to ensure fresh scan\u001b[39;00m\n\u001b[32m     15\u001b[39m \u001b[38;5;66;03m# os.remove('D:/intezet/Bogi/Yolo/combined_dataset/labels/train/original.cache')\u001b[39;00m\n\u001b[32m     16\u001b[39m \u001b[38;5;66;03m# os.remove('D:/intezet/Bogi/Yolo/combined_dataset/labels/val/original.cache')\u001b[39;00m\n\u001b[32m---> \u001b[39m\u001b[32m18\u001b[39m \u001b[43mmodel\u001b[49m\u001b[43m.\u001b[49m\u001b[43mtrain\u001b[49m\u001b[43m(\u001b[49m\n\u001b[32m     19\u001b[39m \u001b[43m    \u001b[49m\u001b[43mdata\u001b[49m\u001b[43m=\u001b[49m\u001b[33;43m'\u001b[39;49m\u001b[33;43mD:/intezet/Bogi/Yolo/combined_dataset/data.yaml\u001b[39;49m\u001b[33;43m'\u001b[39;49m\u001b[43m,\u001b[49m\n\u001b[32m     20\u001b[39m \u001b[43m    \u001b[49m\u001b[43mepochs\u001b[49m\u001b[43m=\u001b[49m\u001b[32;43m40\u001b[39;49m\u001b[43m,\u001b[49m\n\u001b[32m     21\u001b[39m \u001b[43m    \u001b[49m\u001b[43mimgsz\u001b[49m\u001b[43m=\u001b[49m\u001b[32;43m640\u001b[39;49m\u001b[43m,\u001b[49m\n\u001b[32m     22\u001b[39m \u001b[43m    \u001b[49m\u001b[43mbatch\u001b[49m\u001b[43m=\u001b[49m\u001b[32;43m16\u001b[39;49m\u001b[43m,\u001b[49m\n\u001b[32m     23\u001b[39m \u001b[43m    \u001b[49m\u001b[43mpatience\u001b[49m\u001b[43m=\u001b[49m\u001b[32;43m5\u001b[39;49m\u001b[43m,\u001b[49m\n\u001b[32m     24\u001b[39m \u001b[43m    \u001b[49m\u001b[43mdevice\u001b[49m\u001b[43m=\u001b[49m\u001b[33;43m'\u001b[39;49m\u001b[33;43mcpu\u001b[39;49m\u001b[33;43m'\u001b[39;49m\u001b[43m,\u001b[49m\n\u001b[32m     25\u001b[39m \u001b[43m    \u001b[49m\u001b[43mtrainer\u001b[49m\u001b[43m=\u001b[49m\u001b[43mCustomTrainer\u001b[49m\n\u001b[32m     26\u001b[39m \u001b[43m)\u001b[49m\n",
      "\u001b[36mFile \u001b[39m\u001b[32md:\\intezet\\Bogi\\yolo-venv\\Lib\\site-packages\\ultralytics\\engine\\model.py:791\u001b[39m, in \u001b[36mModel.train\u001b[39m\u001b[34m(self, trainer, **kwargs)\u001b[39m\n\u001b[32m    788\u001b[39m \u001b[38;5;28;01mif\u001b[39;00m args.get(\u001b[33m\"\u001b[39m\u001b[33mresume\u001b[39m\u001b[33m\"\u001b[39m):\n\u001b[32m    789\u001b[39m     args[\u001b[33m\"\u001b[39m\u001b[33mresume\u001b[39m\u001b[33m\"\u001b[39m] = \u001b[38;5;28mself\u001b[39m.ckpt_path\n\u001b[32m--> \u001b[39m\u001b[32m791\u001b[39m \u001b[38;5;28mself\u001b[39m.trainer = \u001b[43m(\u001b[49m\u001b[43mtrainer\u001b[49m\u001b[43m \u001b[49m\u001b[38;5;129;43;01mor\u001b[39;49;00m\u001b[43m \u001b[49m\u001b[38;5;28;43mself\u001b[39;49m\u001b[43m.\u001b[49m\u001b[43m_smart_load\u001b[49m\u001b[43m(\u001b[49m\u001b[33;43m\"\u001b[39;49m\u001b[33;43mtrainer\u001b[39;49m\u001b[33;43m\"\u001b[39;49m\u001b[43m)\u001b[49m\u001b[43m)\u001b[49m\u001b[43m(\u001b[49m\u001b[43moverrides\u001b[49m\u001b[43m=\u001b[49m\u001b[43margs\u001b[49m\u001b[43m,\u001b[49m\u001b[43m \u001b[49m\u001b[43m_callbacks\u001b[49m\u001b[43m=\u001b[49m\u001b[38;5;28;43mself\u001b[39;49m\u001b[43m.\u001b[49m\u001b[43mcallbacks\u001b[49m\u001b[43m)\u001b[49m\n\u001b[32m    792\u001b[39m \u001b[38;5;28;01mif\u001b[39;00m \u001b[38;5;129;01mnot\u001b[39;00m args.get(\u001b[33m\"\u001b[39m\u001b[33mresume\u001b[39m\u001b[33m\"\u001b[39m):  \u001b[38;5;66;03m# manually set model only if not resuming\u001b[39;00m\n\u001b[32m    793\u001b[39m     \u001b[38;5;28mself\u001b[39m.trainer.model = \u001b[38;5;28mself\u001b[39m.trainer.get_model(weights=\u001b[38;5;28mself\u001b[39m.model \u001b[38;5;28;01mif\u001b[39;00m \u001b[38;5;28mself\u001b[39m.ckpt \u001b[38;5;28;01melse\u001b[39;00m \u001b[38;5;28;01mNone\u001b[39;00m, cfg=\u001b[38;5;28mself\u001b[39m.model.yaml)\n",
      "\u001b[36mFile \u001b[39m\u001b[32md:\\intezet\\Bogi\\yolo-venv\\Lib\\site-packages\\ultralytics\\engine\\trainer.py:153\u001b[39m, in \u001b[36mBaseTrainer.__init__\u001b[39m\u001b[34m(self, cfg, overrides, _callbacks)\u001b[39m\n\u001b[32m    151\u001b[39m \u001b[38;5;28mself\u001b[39m.model = check_model_file_from_stem(\u001b[38;5;28mself\u001b[39m.args.model)  \u001b[38;5;66;03m# add suffix, i.e. yolo11n -> yolo11n.pt\u001b[39;00m\n\u001b[32m    152\u001b[39m \u001b[38;5;28;01mwith\u001b[39;00m torch_distributed_zero_first(LOCAL_RANK):  \u001b[38;5;66;03m# avoid auto-downloading dataset multiple times\u001b[39;00m\n\u001b[32m--> \u001b[39m\u001b[32m153\u001b[39m     \u001b[38;5;28mself\u001b[39m.data = \u001b[38;5;28;43mself\u001b[39;49m\u001b[43m.\u001b[49m\u001b[43mget_dataset\u001b[49m\u001b[43m(\u001b[49m\u001b[43m)\u001b[49m\n\u001b[32m    155\u001b[39m \u001b[38;5;28mself\u001b[39m.ema = \u001b[38;5;28;01mNone\u001b[39;00m\n\u001b[32m    157\u001b[39m \u001b[38;5;66;03m# Optimization utils init\u001b[39;00m\n",
      "\u001b[36mFile \u001b[39m\u001b[32md:\\intezet\\Bogi\\Yolo\\combined_dataset\\custom_trainer.py:7\u001b[39m, in \u001b[36mCustomTrainer.get_dataset\u001b[39m\u001b[34m(self)\u001b[39m\n\u001b[32m      5\u001b[39m \u001b[38;5;28;01mdef\u001b[39;00m\u001b[38;5;250m \u001b[39m\u001b[34mget_dataset\u001b[39m(\u001b[38;5;28mself\u001b[39m):\n\u001b[32m      6\u001b[39m     \u001b[38;5;28mprint\u001b[39m(\u001b[33m\"\u001b[39m\u001b[33mUsing custom dataset loader...\u001b[39m\u001b[33m\"\u001b[39m)\n\u001b[32m----> \u001b[39m\u001b[32m7\u001b[39m     \u001b[38;5;28;01mreturn\u001b[39;00m \u001b[43mTwoChannelDataset\u001b[49m\u001b[43m(\u001b[49m\n\u001b[32m      8\u001b[39m \u001b[43m        \u001b[49m\u001b[43mimg_path\u001b[49m\u001b[43m=\u001b[49m\u001b[38;5;28;43mself\u001b[39;49m\u001b[43m.\u001b[49m\u001b[43margs\u001b[49m\u001b[43m.\u001b[49m\u001b[43mdata\u001b[49m\u001b[43m,\u001b[49m\n\u001b[32m      9\u001b[39m \u001b[43m        \u001b[49m\u001b[43mdata\u001b[49m\u001b[43m=\u001b[49m\u001b[38;5;28;43mself\u001b[39;49m\u001b[43m.\u001b[49m\u001b[43margs\u001b[49m\u001b[43m.\u001b[49m\u001b[43mdata\u001b[49m\u001b[43m,\u001b[49m\n\u001b[32m     10\u001b[39m \u001b[43m        \u001b[49m\u001b[43mimgsz\u001b[49m\u001b[43m=\u001b[49m\u001b[38;5;28;43mself\u001b[39;49m\u001b[43m.\u001b[49m\u001b[43margs\u001b[49m\u001b[43m.\u001b[49m\u001b[43mimgsz\u001b[49m\n\u001b[32m     11\u001b[39m \u001b[43m    \u001b[49m\u001b[43m)\u001b[49m\n",
      "\u001b[36mFile \u001b[39m\u001b[32md:\\intezet\\Bogi\\Yolo\\combined_dataset\\custom_dataset.py:8\u001b[39m, in \u001b[36m__init__\u001b[39m\u001b[34m(self, *args, **kwargs)\u001b[39m\n\u001b[32m      7\u001b[39m \u001b[38;5;28;01mclass\u001b[39;00m\u001b[38;5;250m \u001b[39m\u001b[34;01mTwoChannelDataset\u001b[39;00m(BaseDataset):\n\u001b[32m----> \u001b[39m\u001b[32m8\u001b[39m     \u001b[38;5;28;01mdef\u001b[39;00m\u001b[38;5;250m \u001b[39m\u001b[34m__init__\u001b[39m(\u001b[38;5;28mself\u001b[39m, *args, **kwargs):\n\u001b[32m      9\u001b[39m         \u001b[38;5;28msuper\u001b[39m().\u001b[34m__init__\u001b[39m(*args, **kwargs)\n\u001b[32m     10\u001b[39m         \u001b[38;5;28mself\u001b[39m.original_dir = \u001b[38;5;28mself\u001b[39m.args.data.get(\u001b[33m'\u001b[39m\u001b[33moriginal_dir\u001b[39m\u001b[33m'\u001b[39m, \u001b[33m'\u001b[39m\u001b[33moriginal\u001b[39m\u001b[33m'\u001b[39m)\n",
      "\u001b[31mTypeError\u001b[39m: BaseDataset.__init__() got an unexpected keyword argument 'data'"
     ]
    }
   ],
   "source": [
    "import os\n",
    "from ultralytics import YOLO\n",
    "from custom_trainer import CustomTrainer\n",
    "\n",
    "print(\"Starting training script...\")\n",
    "print(f\"Current working directory: {os.getcwd()}\")\n",
    "\n",
    "model = YOLO('yolov8s_6ch.pt')\n",
    "print(\"Model loaded successfully\")\n",
    "\n",
    "# Clear cache\n",
    "os.remove('D:/intezet/Bogi/Yolo/combined_dataset/labels/train/original.cache')\n",
    "os.remove('D:/intezet/Bogi/Yolo/combined_dataset/labels/val/original.cache')\n",
    "\n",
    "model.train(\n",
    "    data='D:/intezet/Bogi/Yolo/combined_dataset/data.yaml',\n",
    "    epochs=40,\n",
    "    imgsz=640,\n",
    "    batch=16,\n",
    "    patience=5,\n",
    "    device='cpu',\n",
    "    trainer=CustomTrainer\n",
    ")"
   ]
  }
 ],
 "metadata": {
  "kernelspec": {
   "display_name": "yolo-venv",
   "language": "python",
   "name": "python3"
  },
  "language_info": {
   "codemirror_mode": {
    "name": "ipython",
    "version": 3
   },
   "file_extension": ".py",
   "mimetype": "text/x-python",
   "name": "python",
   "nbconvert_exporter": "python",
   "pygments_lexer": "ipython3",
   "version": "3.12.4"
  }
 },
 "nbformat": 4,
 "nbformat_minor": 5
}
