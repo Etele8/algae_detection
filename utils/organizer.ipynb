{
 "cells": [
  {
   "cell_type": "code",
   "execution_count": 4,
   "id": "50a15007",
   "metadata": {},
   "outputs": [],
   "source": [
    "import os\n",
    "import shutil\n",
    "import pathlib as Path\n",
    "\n",
    "folder = \"D:/intezet/Bogi/Yolo/data/test_for_prediction/right\"\n",
    "\n",
    "\n",
    "# Get all combined images\n",
    "for filename in os.listdir(folder):\n",
    "    if filename.replace(\".png\", \"_red.png\") in os.listdir(\"D:/intezet/Bogi/data/collected_images\"):\n",
    "        shutil.copy2(\n",
    "            os.path.join(\"D:/intezet/Bogi/data/collected_images\", filename.replace(\".png\", \"_red.png\")),\n",
    "            os.path.join(\"D:/intezet/Bogi/Yolo/data/test_for_prediction/left\", filename)\n",
    "        )"
   ]
  }
 ],
 "metadata": {
  "kernelspec": {
   "display_name": "yolo-venv",
   "language": "python",
   "name": "python3"
  },
  "language_info": {
   "codemirror_mode": {
    "name": "ipython",
    "version": 3
   },
   "file_extension": ".py",
   "mimetype": "text/x-python",
   "name": "python",
   "nbconvert_exporter": "python",
   "pygments_lexer": "ipython3",
   "version": "3.12.4"
  }
 },
 "nbformat": 4,
 "nbformat_minor": 5
}
