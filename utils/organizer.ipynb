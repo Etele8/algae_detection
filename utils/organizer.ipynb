{
 "cells": [
  {
   "cell_type": "code",
   "execution_count": 8,
   "id": "50a15007",
   "metadata": {},
   "outputs": [],
   "source": [
    "import os\n",
    "import shutil\n",
    "import pathlib as Path\n",
    "\n",
    "folder = \"D:/intezet/Bogi/Yolo/data/images/left\"\n",
    "\n",
    "# Get all combined images\n",
    "for filename in os.listdir(folder):\n",
    "    if filename.endswith('_red.png'):\n",
    "        src = os.path.join(folder, filename)\n",
    "        filename = filename.replace('_red', '')\n",
    "        dst = os.path.join(folder, filename)\n",
    "        shutil.copy2(src, dst)\n",
    "        os.remove(src)"
   ]
  }
 ],
 "metadata": {
  "kernelspec": {
   "display_name": "yolo-venv",
   "language": "python",
   "name": "python3"
  },
  "language_info": {
   "codemirror_mode": {
    "name": "ipython",
    "version": 3
   },
   "file_extension": ".py",
   "mimetype": "text/x-python",
   "name": "python",
   "nbconvert_exporter": "python",
   "pygments_lexer": "ipython3",
   "version": "3.12.4"
  }
 },
 "nbformat": 4,
 "nbformat_minor": 5
}
