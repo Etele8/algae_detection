{
 "cells": [
  {
   "cell_type": "code",
   "execution_count": 21,
   "id": "50a15007",
   "metadata": {},
   "outputs": [],
   "source": [
    "import os\n",
    "import shutil\n",
    "\n",
    "# Paths\n",
    "combined_folder = 'D:/intezet/Bogi/Yolo/combined_dataset/images/train'\n",
    "collected_folder = 'D:/intezet/Bogi/data/collected_images'\n",
    "output_folder = 'D:/intezet/Bogi/Yolo/combined_dataset/images/train/red'\n",
    "\n",
    "# Ensure output folder exists\n",
    "os.makedirs(output_folder, exist_ok=True)\n",
    "\n",
    "# Get all combined images\n",
    "for filename in os.listdir(combined_folder):\n",
    "    if filename.endswith('_combined.png'):\n",
    "        prefix = filename.replace('_combined.png', '')\n",
    "        # Find matching file in collected images\n",
    "        prefix += \"_red.png\"\n",
    "        for collected_file in os.listdir(collected_folder):\n",
    "            if collected_file.startswith(prefix):\n",
    "                src = os.path.join(collected_folder, collected_file)\n",
    "                dst = os.path.join(output_folder, collected_file)\n",
    "                shutil.copy2(src, dst)"
   ]
  }
 ],
 "metadata": {
  "kernelspec": {
   "display_name": "yolo-venv",
   "language": "python",
   "name": "python3"
  },
  "language_info": {
   "codemirror_mode": {
    "name": "ipython",
    "version": 3
   },
   "file_extension": ".py",
   "mimetype": "text/x-python",
   "name": "python",
   "nbconvert_exporter": "python",
   "pygments_lexer": "ipython3",
   "version": "3.12.4"
  }
 },
 "nbformat": 4,
 "nbformat_minor": 5
}
