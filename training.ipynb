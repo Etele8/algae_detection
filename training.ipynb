{
 "cells": [
  {
   "cell_type": "code",
   "execution_count": null,
   "id": "faca8a32",
   "metadata": {},
   "outputs": [],
   "source": [
    "from utils.custom_dataset import YOLO6ChannelDataset\n",
    "\n",
    "train_dataset = YOLO6ChannelDataset(\n",
    "    left_img_dir=\"D:/intezet/Bogi/Yolo/data/images/train/left\",\n",
    "    right_img_dir=\"D:/intezet/Bogi/Yolo/data/images/train/right\",\n",
    "    label_dir=\"D:/intezet/Bogi/Yolo/data/labels/train\"\n",
    ")\n",
    "\n",
    "val_dataset = YOLO6ChannelDataset(\n",
    "    left_img_dir=\"D:/intezet/Bogi/Yolo/data/images/val/left\",\n",
    "    right_img_dir=\"D:/intezet/Bogi/Yolo/data/images/val/right\",\n",
    "    label_dir=\"D:/intezet/Bogi/Yolo/data/labels/val\"\n",
    ")"
   ]
  },
  {
   "cell_type": "code",
   "execution_count": 14,
   "id": "6f721722",
   "metadata": {},
   "outputs": [
    {
     "name": "stdout",
     "output_type": "stream",
     "text": [
      "Overriding model.yaml nc=80 with nc=6\n",
      "\n",
      "                   from  n    params  module                                       arguments                     \n",
      "  0                  -1  1       896  ultralytics.nn.modules.conv.Conv             [6, 16, 3, 2]                 \n",
      "  1                  -1  1      4672  ultralytics.nn.modules.conv.Conv             [16, 32, 3, 2]                \n"
     ]
    },
    {
     "name": "stdout",
     "output_type": "stream",
     "text": [
      "  2                  -1  1      7360  ultralytics.nn.modules.block.C2f             [32, 32, 1, True]             \n",
      "  3                  -1  1     18560  ultralytics.nn.modules.conv.Conv             [32, 64, 3, 2]                \n",
      "  4                  -1  2     49664  ultralytics.nn.modules.block.C2f             [64, 64, 2, True]             \n",
      "  5                  -1  1     73984  ultralytics.nn.modules.conv.Conv             [64, 128, 3, 2]               \n",
      "  6                  -1  2    197632  ultralytics.nn.modules.block.C2f             [128, 128, 2, True]           \n",
      "  7                  -1  1    295424  ultralytics.nn.modules.conv.Conv             [128, 256, 3, 2]              \n",
      "  8                  -1  1    460288  ultralytics.nn.modules.block.C2f             [256, 256, 1, True]           \n",
      "  9                  -1  1    164608  ultralytics.nn.modules.block.SPPF            [256, 256, 5]                 \n",
      " 10                  -1  1         0  torch.nn.modules.upsampling.Upsample         [None, 2, 'nearest']          \n",
      " 11             [-1, 6]  1         0  ultralytics.nn.modules.conv.Concat           [1]                           \n",
      " 12                  -1  1    148224  ultralytics.nn.modules.block.C2f             [384, 128, 1]                 \n",
      " 13                  -1  1         0  torch.nn.modules.upsampling.Upsample         [None, 2, 'nearest']          \n",
      " 14             [-1, 4]  1         0  ultralytics.nn.modules.conv.Concat           [1]                           \n",
      " 15                  -1  1     37248  ultralytics.nn.modules.block.C2f             [192, 64, 1]                  \n",
      " 16                  -1  1     36992  ultralytics.nn.modules.conv.Conv             [64, 64, 3, 2]                \n",
      " 17            [-1, 12]  1         0  ultralytics.nn.modules.conv.Concat           [1]                           \n",
      " 18                  -1  1    123648  ultralytics.nn.modules.block.C2f             [192, 128, 1]                 \n",
      " 19                  -1  1    147712  ultralytics.nn.modules.conv.Conv             [128, 128, 3, 2]              \n",
      " 20             [-1, 9]  1         0  ultralytics.nn.modules.conv.Concat           [1]                           \n",
      " 21                  -1  1    493056  ultralytics.nn.modules.block.C2f             [384, 256, 1]                 \n",
      " 22        [15, 18, 21]  1    752482  ultralytics.nn.modules.head.Detect           [6, [64, 128, 256]]           \n",
      "YOLOv8n summary: 129 layers, 3,012,450 parameters, 3,012,434 gradients, 8.3 GFLOPs\n",
      "\n"
     ]
    },
    {
     "name": "stderr",
     "output_type": "stream",
     "text": [
      "Epoch 1/50: 100%|██████████| 17/17 [01:40<00:00,  5.92s/it, loss=379]\n"
     ]
    },
    {
     "name": "stdout",
     "output_type": "stream",
     "text": [
      "📘 Epoch 1 - Train Loss: 536.0597\n",
      "🧪 Epoch 1 - Val Loss: 426.5753\n"
     ]
    },
    {
     "name": "stderr",
     "output_type": "stream",
     "text": [
      "Epoch 2/50: 100%|██████████| 17/17 [01:38<00:00,  5.78s/it, loss=362]\n"
     ]
    },
    {
     "name": "stdout",
     "output_type": "stream",
     "text": [
      "📘 Epoch 2 - Train Loss: 476.0645\n",
      "🧪 Epoch 2 - Val Loss: 426.4144\n"
     ]
    },
    {
     "name": "stderr",
     "output_type": "stream",
     "text": [
      "Epoch 3/50: 100%|██████████| 17/17 [01:36<00:00,  5.67s/it, loss=347]\n"
     ]
    },
    {
     "name": "stdout",
     "output_type": "stream",
     "text": [
      "📘 Epoch 3 - Train Loss: 454.2055\n",
      "🧪 Epoch 3 - Val Loss: 417.5726\n"
     ]
    },
    {
     "name": "stderr",
     "output_type": "stream",
     "text": [
      "Epoch 4/50: 100%|██████████| 17/17 [01:36<00:00,  5.66s/it, loss=334]\n"
     ]
    },
    {
     "name": "stdout",
     "output_type": "stream",
     "text": [
      "📘 Epoch 4 - Train Loss: 436.2660\n",
      "🧪 Epoch 4 - Val Loss: 396.2786\n"
     ]
    },
    {
     "name": "stderr",
     "output_type": "stream",
     "text": [
      "Epoch 5/50: 100%|██████████| 17/17 [01:37<00:00,  5.74s/it, loss=322]\n"
     ]
    },
    {
     "name": "stdout",
     "output_type": "stream",
     "text": [
      "📘 Epoch 5 - Train Loss: 423.7531\n",
      "🧪 Epoch 5 - Val Loss: 373.0830\n",
      "✅ Model saved to: yolov8_custom6.pt\n"
     ]
    },
    {
     "name": "stderr",
     "output_type": "stream",
     "text": [
      "Epoch 6/50: 100%|██████████| 17/17 [01:37<00:00,  5.71s/it, loss=317]\n"
     ]
    },
    {
     "name": "stdout",
     "output_type": "stream",
     "text": [
      "📘 Epoch 6 - Train Loss: 411.4568\n",
      "🧪 Epoch 6 - Val Loss: 353.5692\n"
     ]
    },
    {
     "name": "stderr",
     "output_type": "stream",
     "text": [
      "Epoch 7/50: 100%|██████████| 17/17 [01:37<00:00,  5.75s/it, loss=310]\n"
     ]
    },
    {
     "name": "stdout",
     "output_type": "stream",
     "text": [
      "📘 Epoch 7 - Train Loss: 401.1840\n",
      "🧪 Epoch 7 - Val Loss: 342.8794\n"
     ]
    },
    {
     "name": "stderr",
     "output_type": "stream",
     "text": [
      "Epoch 8/50: 100%|██████████| 17/17 [01:37<00:00,  5.74s/it, loss=300]\n"
     ]
    },
    {
     "name": "stdout",
     "output_type": "stream",
     "text": [
      "📘 Epoch 8 - Train Loss: 390.9889\n",
      "🧪 Epoch 8 - Val Loss: 335.2276\n"
     ]
    },
    {
     "name": "stderr",
     "output_type": "stream",
     "text": [
      "Epoch 9/50: 100%|██████████| 17/17 [01:37<00:00,  5.72s/it, loss=291]\n"
     ]
    },
    {
     "name": "stdout",
     "output_type": "stream",
     "text": [
      "📘 Epoch 9 - Train Loss: 380.9342\n",
      "🧪 Epoch 9 - Val Loss: 321.0906\n"
     ]
    },
    {
     "name": "stderr",
     "output_type": "stream",
     "text": [
      "Epoch 10/50: 100%|██████████| 17/17 [01:37<00:00,  5.71s/it, loss=285]\n"
     ]
    },
    {
     "name": "stdout",
     "output_type": "stream",
     "text": [
      "📘 Epoch 10 - Train Loss: 371.3043\n",
      "🧪 Epoch 10 - Val Loss: 313.4682\n",
      "✅ Model saved to: yolov8_custom6.pt\n"
     ]
    },
    {
     "name": "stderr",
     "output_type": "stream",
     "text": [
      "Epoch 11/50: 100%|██████████| 17/17 [02:46<00:00,  9.82s/it, loss=281]\n"
     ]
    },
    {
     "name": "stdout",
     "output_type": "stream",
     "text": [
      "📘 Epoch 11 - Train Loss: 364.0102\n",
      "🧪 Epoch 11 - Val Loss: 305.2592\n"
     ]
    },
    {
     "name": "stderr",
     "output_type": "stream",
     "text": [
      "Epoch 12/50: 100%|██████████| 17/17 [07:14<00:00, 25.55s/it, loss=274]\n"
     ]
    },
    {
     "name": "stdout",
     "output_type": "stream",
     "text": [
      "📘 Epoch 12 - Train Loss: 355.3651\n",
      "🧪 Epoch 12 - Val Loss: 311.2022\n"
     ]
    },
    {
     "name": "stderr",
     "output_type": "stream",
     "text": [
      "Epoch 13/50: 100%|██████████| 17/17 [07:10<00:00, 25.34s/it, loss=267]\n"
     ]
    },
    {
     "name": "stdout",
     "output_type": "stream",
     "text": [
      "📘 Epoch 13 - Train Loss: 346.7044\n",
      "🧪 Epoch 13 - Val Loss: 312.4634\n"
     ]
    },
    {
     "name": "stderr",
     "output_type": "stream",
     "text": [
      "Epoch 14/50: 100%|██████████| 17/17 [07:14<00:00, 25.54s/it, loss=261]\n"
     ]
    },
    {
     "name": "stdout",
     "output_type": "stream",
     "text": [
      "📘 Epoch 14 - Train Loss: 339.0728\n",
      "🧪 Epoch 14 - Val Loss: 308.3714\n"
     ]
    },
    {
     "name": "stderr",
     "output_type": "stream",
     "text": [
      "Epoch 15/50: 100%|██████████| 17/17 [05:21<00:00, 18.88s/it, loss=255]\n"
     ]
    },
    {
     "name": "stdout",
     "output_type": "stream",
     "text": [
      "📘 Epoch 15 - Train Loss: 331.1858\n",
      "🧪 Epoch 15 - Val Loss: 299.9311\n",
      "✅ Model saved to: yolov8_custom6.pt\n"
     ]
    },
    {
     "name": "stderr",
     "output_type": "stream",
     "text": [
      "Epoch 16/50: 100%|██████████| 17/17 [07:14<00:00, 25.53s/it, loss=248]\n"
     ]
    },
    {
     "name": "stdout",
     "output_type": "stream",
     "text": [
      "📘 Epoch 16 - Train Loss: 323.9814\n",
      "🧪 Epoch 16 - Val Loss: 293.2004\n"
     ]
    },
    {
     "name": "stderr",
     "output_type": "stream",
     "text": [
      "Epoch 17/50: 100%|██████████| 17/17 [07:12<00:00, 25.44s/it, loss=244]\n"
     ]
    },
    {
     "name": "stdout",
     "output_type": "stream",
     "text": [
      "📘 Epoch 17 - Train Loss: 317.2370\n",
      "🧪 Epoch 17 - Val Loss: 287.8482\n"
     ]
    },
    {
     "name": "stderr",
     "output_type": "stream",
     "text": [
      "Epoch 18/50: 100%|██████████| 17/17 [07:11<00:00, 25.36s/it, loss=241]\n"
     ]
    },
    {
     "name": "stdout",
     "output_type": "stream",
     "text": [
      "📘 Epoch 18 - Train Loss: 310.6379\n",
      "🧪 Epoch 18 - Val Loss: 283.0489\n"
     ]
    },
    {
     "name": "stderr",
     "output_type": "stream",
     "text": [
      "Epoch 19/50: 100%|██████████| 17/17 [03:18<00:00, 11.67s/it, loss=235]\n"
     ]
    },
    {
     "name": "stdout",
     "output_type": "stream",
     "text": [
      "📘 Epoch 19 - Train Loss: 304.0238\n",
      "🧪 Epoch 19 - Val Loss: 276.7426\n"
     ]
    },
    {
     "name": "stderr",
     "output_type": "stream",
     "text": [
      "Epoch 20/50: 100%|██████████| 17/17 [01:44<00:00,  6.13s/it, loss=229]\n"
     ]
    },
    {
     "name": "stdout",
     "output_type": "stream",
     "text": [
      "📘 Epoch 20 - Train Loss: 297.6722\n",
      "🧪 Epoch 20 - Val Loss: 272.6168\n",
      "✅ Model saved to: yolov8_custom6.pt\n"
     ]
    },
    {
     "name": "stderr",
     "output_type": "stream",
     "text": [
      "Epoch 21/50: 100%|██████████| 17/17 [01:39<00:00,  5.87s/it, loss=225]\n"
     ]
    },
    {
     "name": "stdout",
     "output_type": "stream",
     "text": [
      "📘 Epoch 21 - Train Loss: 291.3518\n",
      "🧪 Epoch 21 - Val Loss: 267.3956\n"
     ]
    },
    {
     "name": "stderr",
     "output_type": "stream",
     "text": [
      "Epoch 22/50: 100%|██████████| 17/17 [01:41<00:00,  5.96s/it, loss=219]\n"
     ]
    },
    {
     "name": "stdout",
     "output_type": "stream",
     "text": [
      "📘 Epoch 22 - Train Loss: 285.2544\n",
      "🧪 Epoch 22 - Val Loss: 260.7531\n"
     ]
    },
    {
     "name": "stderr",
     "output_type": "stream",
     "text": [
      "Epoch 23/50: 100%|██████████| 17/17 [2:07:59<00:00, 451.73s/it, loss=214]   \n"
     ]
    },
    {
     "name": "stdout",
     "output_type": "stream",
     "text": [
      "📘 Epoch 23 - Train Loss: 279.1842\n",
      "🧪 Epoch 23 - Val Loss: 252.9820\n"
     ]
    },
    {
     "name": "stderr",
     "output_type": "stream",
     "text": [
      "Epoch 24/50: 100%|██████████| 17/17 [54:34<00:00, 192.60s/it, loss=210]\n"
     ]
    },
    {
     "name": "stdout",
     "output_type": "stream",
     "text": [
      "📘 Epoch 24 - Train Loss: 273.2446\n",
      "🧪 Epoch 24 - Val Loss: 247.4880\n"
     ]
    },
    {
     "name": "stderr",
     "output_type": "stream",
     "text": [
      "Epoch 25/50: 100%|██████████| 17/17 [05:35<00:00, 19.76s/it, loss=206]\n"
     ]
    },
    {
     "name": "stdout",
     "output_type": "stream",
     "text": [
      "📘 Epoch 25 - Train Loss: 267.5250\n",
      "🧪 Epoch 25 - Val Loss: 242.1881\n",
      "✅ Model saved to: yolov8_custom6.pt\n"
     ]
    },
    {
     "name": "stderr",
     "output_type": "stream",
     "text": [
      "Epoch 26/50: 100%|██████████| 17/17 [02:09<00:00,  7.62s/it, loss=201]\n"
     ]
    },
    {
     "name": "stdout",
     "output_type": "stream",
     "text": [
      "📘 Epoch 26 - Train Loss: 261.4751\n",
      "🧪 Epoch 26 - Val Loss: 237.1601\n"
     ]
    },
    {
     "name": "stderr",
     "output_type": "stream",
     "text": [
      "Epoch 27/50: 100%|██████████| 17/17 [08:09<00:00, 28.82s/it, loss=196]\n"
     ]
    },
    {
     "name": "stdout",
     "output_type": "stream",
     "text": [
      "📘 Epoch 27 - Train Loss: 256.0366\n",
      "🧪 Epoch 27 - Val Loss: 230.9779\n"
     ]
    },
    {
     "name": "stderr",
     "output_type": "stream",
     "text": [
      "Epoch 28/50: 100%|██████████| 17/17 [07:35<00:00, 26.79s/it, loss=193]\n"
     ]
    },
    {
     "name": "stdout",
     "output_type": "stream",
     "text": [
      "📘 Epoch 28 - Train Loss: 250.1799\n",
      "🧪 Epoch 28 - Val Loss: 225.3507\n"
     ]
    },
    {
     "name": "stderr",
     "output_type": "stream",
     "text": [
      "Epoch 29/50: 100%|██████████| 17/17 [07:28<00:00, 26.38s/it, loss=188]\n"
     ]
    },
    {
     "name": "stdout",
     "output_type": "stream",
     "text": [
      "📘 Epoch 29 - Train Loss: 244.8531\n",
      "🧪 Epoch 29 - Val Loss: 220.8949\n"
     ]
    },
    {
     "name": "stderr",
     "output_type": "stream",
     "text": [
      "Epoch 30/50: 100%|██████████| 17/17 [06:38<00:00, 23.43s/it, loss=184]\n"
     ]
    },
    {
     "name": "stdout",
     "output_type": "stream",
     "text": [
      "📘 Epoch 30 - Train Loss: 239.9008\n",
      "🧪 Epoch 30 - Val Loss: 215.9689\n",
      "✅ Model saved to: yolov8_custom6.pt\n"
     ]
    },
    {
     "name": "stderr",
     "output_type": "stream",
     "text": [
      "Epoch 31/50: 100%|██████████| 17/17 [06:50<00:00, 24.15s/it, loss=180]\n"
     ]
    },
    {
     "name": "stdout",
     "output_type": "stream",
     "text": [
      "📘 Epoch 31 - Train Loss: 233.9296\n",
      "🧪 Epoch 31 - Val Loss: 210.3286\n"
     ]
    },
    {
     "name": "stderr",
     "output_type": "stream",
     "text": [
      "Epoch 32/50: 100%|██████████| 17/17 [06:51<00:00, 24.19s/it, loss=176]\n"
     ]
    },
    {
     "name": "stdout",
     "output_type": "stream",
     "text": [
      "📘 Epoch 32 - Train Loss: 228.8373\n",
      "🧪 Epoch 32 - Val Loss: 207.1298\n"
     ]
    },
    {
     "name": "stderr",
     "output_type": "stream",
     "text": [
      "Epoch 33/50: 100%|██████████| 17/17 [03:24<00:00, 12.02s/it, loss=172]\n"
     ]
    },
    {
     "name": "stdout",
     "output_type": "stream",
     "text": [
      "📘 Epoch 33 - Train Loss: 224.0646\n",
      "🧪 Epoch 33 - Val Loss: 204.0338\n"
     ]
    },
    {
     "name": "stderr",
     "output_type": "stream",
     "text": [
      "Epoch 34/50: 100%|██████████| 17/17 [01:53<00:00,  6.67s/it, loss=168]\n"
     ]
    },
    {
     "name": "stdout",
     "output_type": "stream",
     "text": [
      "📘 Epoch 34 - Train Loss: 218.9991\n",
      "🧪 Epoch 34 - Val Loss: 198.9612\n"
     ]
    },
    {
     "name": "stderr",
     "output_type": "stream",
     "text": [
      "Epoch 35/50: 100%|██████████| 17/17 [02:42<00:00,  9.54s/it, loss=164]\n"
     ]
    },
    {
     "name": "stdout",
     "output_type": "stream",
     "text": [
      "📘 Epoch 35 - Train Loss: 214.0570\n",
      "🧪 Epoch 35 - Val Loss: 194.1339\n",
      "✅ Model saved to: yolov8_custom6.pt\n"
     ]
    },
    {
     "name": "stderr",
     "output_type": "stream",
     "text": [
      "Epoch 36/50: 100%|██████████| 17/17 [01:40<00:00,  5.92s/it, loss=161]\n"
     ]
    },
    {
     "name": "stdout",
     "output_type": "stream",
     "text": [
      "📘 Epoch 36 - Train Loss: 209.2107\n",
      "🧪 Epoch 36 - Val Loss: 188.9806\n"
     ]
    },
    {
     "name": "stderr",
     "output_type": "stream",
     "text": [
      "Epoch 37/50: 100%|██████████| 17/17 [01:52<00:00,  6.59s/it, loss=158]\n"
     ]
    },
    {
     "name": "stdout",
     "output_type": "stream",
     "text": [
      "📘 Epoch 37 - Train Loss: 204.6352\n",
      "🧪 Epoch 37 - Val Loss: 184.9130\n"
     ]
    },
    {
     "name": "stderr",
     "output_type": "stream",
     "text": [
      "Epoch 38/50: 100%|██████████| 17/17 [02:50<00:00, 10.05s/it, loss=153]\n"
     ]
    },
    {
     "name": "stdout",
     "output_type": "stream",
     "text": [
      "📘 Epoch 38 - Train Loss: 199.9016\n",
      "🧪 Epoch 38 - Val Loss: 180.3605\n"
     ]
    },
    {
     "name": "stderr",
     "output_type": "stream",
     "text": [
      "Epoch 39/50: 100%|██████████| 17/17 [03:35<00:00, 12.68s/it, loss=151]\n"
     ]
    },
    {
     "name": "stdout",
     "output_type": "stream",
     "text": [
      "📘 Epoch 39 - Train Loss: 195.6296\n",
      "🧪 Epoch 39 - Val Loss: 177.0317\n"
     ]
    },
    {
     "name": "stderr",
     "output_type": "stream",
     "text": [
      "Epoch 40/50: 100%|██████████| 17/17 [03:45<00:00, 13.25s/it, loss=146]\n"
     ]
    },
    {
     "name": "stdout",
     "output_type": "stream",
     "text": [
      "📘 Epoch 40 - Train Loss: 191.1533\n",
      "🧪 Epoch 40 - Val Loss: 171.5531\n",
      "✅ Model saved to: yolov8_custom6.pt\n"
     ]
    },
    {
     "name": "stderr",
     "output_type": "stream",
     "text": [
      "Epoch 41/50: 100%|██████████| 17/17 [03:32<00:00, 12.50s/it, loss=143]\n"
     ]
    },
    {
     "name": "stdout",
     "output_type": "stream",
     "text": [
      "📘 Epoch 41 - Train Loss: 186.7649\n",
      "🧪 Epoch 41 - Val Loss: 167.6098\n"
     ]
    },
    {
     "name": "stderr",
     "output_type": "stream",
     "text": [
      "Epoch 42/50: 100%|██████████| 17/17 [02:01<00:00,  7.13s/it, loss=140]\n"
     ]
    },
    {
     "name": "stdout",
     "output_type": "stream",
     "text": [
      "📘 Epoch 42 - Train Loss: 182.5368\n",
      "🧪 Epoch 42 - Val Loss: 173.8916\n"
     ]
    },
    {
     "name": "stderr",
     "output_type": "stream",
     "text": [
      "Epoch 43/50: 100%|██████████| 17/17 [02:13<00:00,  7.87s/it, loss=137]\n"
     ]
    },
    {
     "name": "stdout",
     "output_type": "stream",
     "text": [
      "📘 Epoch 43 - Train Loss: 178.3150\n",
      "🧪 Epoch 43 - Val Loss: 161.4089\n"
     ]
    },
    {
     "name": "stderr",
     "output_type": "stream",
     "text": [
      "Epoch 44/50: 100%|██████████| 17/17 [03:31<00:00, 12.43s/it, loss=134]\n"
     ]
    },
    {
     "name": "stdout",
     "output_type": "stream",
     "text": [
      "📘 Epoch 44 - Train Loss: 174.3195\n",
      "🧪 Epoch 44 - Val Loss: 158.3565\n"
     ]
    },
    {
     "name": "stderr",
     "output_type": "stream",
     "text": [
      "Epoch 45/50: 100%|██████████| 17/17 [03:12<00:00, 11.32s/it, loss=131]\n"
     ]
    },
    {
     "name": "stdout",
     "output_type": "stream",
     "text": [
      "📘 Epoch 45 - Train Loss: 170.2040\n",
      "🧪 Epoch 45 - Val Loss: 154.1134\n",
      "✅ Model saved to: yolov8_custom6.pt\n"
     ]
    },
    {
     "name": "stderr",
     "output_type": "stream",
     "text": [
      "Epoch 46/50: 100%|██████████| 17/17 [03:10<00:00, 11.20s/it, loss=128]\n"
     ]
    },
    {
     "name": "stdout",
     "output_type": "stream",
     "text": [
      "📘 Epoch 46 - Train Loss: 166.3013\n",
      "🧪 Epoch 46 - Val Loss: 149.5834\n"
     ]
    },
    {
     "name": "stderr",
     "output_type": "stream",
     "text": [
      "Epoch 47/50: 100%|██████████| 17/17 [03:45<00:00, 13.29s/it, loss=125]\n"
     ]
    },
    {
     "name": "stdout",
     "output_type": "stream",
     "text": [
      "📘 Epoch 47 - Train Loss: 162.4362\n",
      "🧪 Epoch 47 - Val Loss: 146.4125\n"
     ]
    },
    {
     "name": "stderr",
     "output_type": "stream",
     "text": [
      "Epoch 48/50: 100%|██████████| 17/17 [03:21<00:00, 11.84s/it, loss=122]\n"
     ]
    },
    {
     "name": "stdout",
     "output_type": "stream",
     "text": [
      "📘 Epoch 48 - Train Loss: 158.6298\n",
      "🧪 Epoch 48 - Val Loss: 142.9610\n"
     ]
    },
    {
     "name": "stderr",
     "output_type": "stream",
     "text": [
      "Epoch 49/50: 100%|██████████| 17/17 [01:37<00:00,  5.76s/it, loss=119]\n"
     ]
    },
    {
     "name": "stdout",
     "output_type": "stream",
     "text": [
      "📘 Epoch 49 - Train Loss: 154.8891\n",
      "🧪 Epoch 49 - Val Loss: 138.5046\n"
     ]
    },
    {
     "name": "stderr",
     "output_type": "stream",
     "text": [
      "Epoch 50/50: 100%|██████████| 17/17 [01:36<00:00,  5.65s/it, loss=116]\n"
     ]
    },
    {
     "name": "stdout",
     "output_type": "stream",
     "text": [
      "📘 Epoch 50 - Train Loss: 151.4806\n",
      "🧪 Epoch 50 - Val Loss: 135.6620\n",
      "✅ Model saved to: yolov8_custom6.pt\n"
     ]
    }
   ],
   "source": [
    "import torch\n",
    "from torch.utils.data import DataLoader\n",
    "from ultralytics.nn.tasks import DetectionModel\n",
    "from types import SimpleNamespace\n",
    "from tqdm import tqdm\n",
    "import os\n",
    "\n",
    "device = torch.device(\"cuda\" if torch.cuda.is_available() else \"cpu\")\n",
    "epochs = 50\n",
    "batch_size = 8\n",
    "save_path = \"yolov8_custom6.pt\"\n",
    "\n",
    "\n",
    "# --- Collate Function ---\n",
    "def collate_fn(batch):\n",
    "    imgs, targets = zip(*batch)\n",
    "    imgs = torch.stack(imgs, dim=0)\n",
    "    targets_with_id = []\n",
    "    for i, t in enumerate(targets):\n",
    "        if t.numel() == 0:\n",
    "            continue\n",
    "        img_idx = torch.full((t.shape[0], 1), i, dtype=t.dtype)\n",
    "        targets_with_id.append(torch.cat([img_idx, t], dim=1))\n",
    "    if len(targets_with_id) == 0:\n",
    "        targets_combined = torch.zeros((0, 6))\n",
    "    else:\n",
    "        targets_combined = torch.cat(targets_with_id, dim=0)\n",
    "    # print(f\"targets_combined: {targets_combined}\")\n",
    "    return imgs, targets_combined\n",
    "\n",
    "\n",
    "train_loader = DataLoader(train_dataset, batch_size=batch_size, shuffle=True,\n",
    "                          collate_fn=collate_fn, num_workers=0)\n",
    "\n",
    "val_loader = DataLoader(val_dataset, batch_size=batch_size, shuffle=False,\n",
    "                        collate_fn=collate_fn, num_workers=0)\n",
    "\n",
    "\n",
    "# --- Model ---\n",
    "model = DetectionModel(cfg='ultralytics/cfg/models/v8/yolov8n.yaml', ch=6, nc=6).to(device)\n",
    "model.args = SimpleNamespace(box=7.5, cls=0.5, dfl=1.5, reg_max=15)\n",
    "model.criterion = model.init_criterion()\n",
    "model.to(device)\n",
    "# print(f\"Expected output channels: {(model.args.reg_max + 1) * 4 + model.nc}\")\n",
    "\n",
    "optimizer = torch.optim.Adam(model.parameters(), lr=1e-4)\n",
    "\n",
    "# --- Training Loop ---\n",
    "for epoch in range(epochs):\n",
    "    model.train()\n",
    "    total_loss = 0.0\n",
    "    pbar = tqdm(train_loader, desc=f\"Epoch {epoch+1}/{epochs}\")\n",
    "    \n",
    "    for imgs, targets in pbar:\n",
    "        # print(f\"imgs.shape: {imgs.shape}\")\n",
    "        imgs = imgs.to(device)\n",
    "        targets = targets.to(device)\n",
    "\n",
    "        if targets.shape[0] == 0:\n",
    "            continue\n",
    "\n",
    "        optimizer.zero_grad()\n",
    "        preds = model(imgs)\n",
    "\n",
    "        batch = {\n",
    "            \"img\": imgs,\n",
    "            \"batch_idx\": targets[:, 0],\n",
    "            \"cls\": targets[:, 1],\n",
    "            \"bboxes\": targets[:, 2:]\n",
    "        }\n",
    "        \n",
    "        loss, loss_items = model.loss(batch, preds)  # loss is scalar, loss_items is [box, cls, dfl]\n",
    "        loss = loss.sum()\n",
    "\n",
    "        loss.backward()\n",
    "        optimizer.step()\n",
    "\n",
    "        total_loss += loss.item()\n",
    "        pbar.set_postfix(loss=loss.item())\n",
    "\n",
    "    avg_loss = total_loss / len(train_loader)\n",
    "    print(f\"📘 Epoch {epoch+1} - Train Loss: {avg_loss:.4f}\")\n",
    "\n",
    "    # --- Validation ---\n",
    "    model.eval()\n",
    "    val_loss = 0.0\n",
    "    with torch.no_grad():\n",
    "        for imgs, targets in val_loader:\n",
    "            imgs = imgs.to(device)\n",
    "            targets = targets.to(device)\n",
    "\n",
    "            if targets.shape[0] == 0:\n",
    "                continue\n",
    "\n",
    "            preds = model(imgs)\n",
    "            batch = {\n",
    "                \"img\": imgs,\n",
    "                \"batch_idx\": targets[:, 0],\n",
    "                \"cls\": targets[:, 1],\n",
    "                \"bboxes\": targets[:, 2:]\n",
    "            }\n",
    "            \n",
    "            loss_out, loss_out_items = model.loss(batch, preds)  # loss is scalar, loss_items is [box, cls, dfl]\n",
    "            loss_out = loss_out.sum()\n",
    "            val_loss += loss_out.item()\n",
    "\n",
    "    avg_val_loss = val_loss / len(val_loader)\n",
    "    print(f\"🧪 Epoch {epoch+1} - Val Loss: {avg_val_loss:.4f}\")\n",
    "\n",
    "    # --- Save ---\n",
    "    if (epoch + 1) % 5 == 0 or (epoch + 1) == epochs:\n",
    "        torch.save(model.state_dict(), save_path)\n",
    "        print(f\"✅ Model saved to: {save_path}\")\n"
   ]
  },
  {
   "cell_type": "code",
   "execution_count": null,
   "id": "dd7aea4f",
   "metadata": {},
   "outputs": [],
   "source": []
  }
 ],
 "metadata": {
  "kernelspec": {
   "display_name": "yolo-venv",
   "language": "python",
   "name": "python3"
  },
  "language_info": {
   "codemirror_mode": {
    "name": "ipython",
    "version": 3
   },
   "file_extension": ".py",
   "mimetype": "text/x-python",
   "name": "python",
   "nbconvert_exporter": "python",
   "pygments_lexer": "ipython3",
   "version": "3.12.4"
  }
 },
 "nbformat": 4,
 "nbformat_minor": 5
}
