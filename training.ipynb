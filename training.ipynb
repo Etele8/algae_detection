{
 "cells": [
  {
   "cell_type": "code",
   "execution_count": null,
   "id": "2f5a5313",
   "metadata": {},
   "outputs": [],
   "source": [
    "from ultralytics import YOLO\n",
    "\n",
    "model = YOLO(\"yolov8n.pt\")  # pretrained YOLOv8 nano model\n",
    "\n",
    "model.train(data=\"D:/intezet/Bogi/data.yaml\", epochs=50, batch=16, imgsz=640)"
   ]
  },
  {
   "cell_type": "code",
   "execution_count": null,
   "id": "dbf750d3",
   "metadata": {},
   "outputs": [],
   "source": [
    "metrics = model.val()\n",
    "print(metrics)"
   ]
  },
  {
   "cell_type": "code",
   "execution_count": null,
   "id": "42c3e7f4",
   "metadata": {},
   "outputs": [],
   "source": [
    "results = model.predict(source=\"D:\\intezet\\Bogi\\Yolo\\data\\test_for_prediction\\right\\Image_5417.png\", imgsz=640)\n",
    "results.show()  # or save with results.save()"
   ]
  }
 ],
 "metadata": {
  "kernelspec": {
   "display_name": "yolo-venv",
   "language": "python",
   "name": "python3"
  },
  "language_info": {
   "codemirror_mode": {
    "name": "ipython",
    "version": 3
   },
   "file_extension": ".py",
   "mimetype": "text/x-python",
   "name": "python",
   "nbconvert_exporter": "python",
   "pygments_lexer": "ipython3",
   "version": "3.12.4"
  }
 },
 "nbformat": 4,
 "nbformat_minor": 5
}
